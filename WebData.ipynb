{
 "cells": [
  {
   "cell_type": "code",
   "execution_count": 30,
   "id": "213fb904-88b4-4f64-a9a9-d4ff32ca4b99",
   "metadata": {},
   "outputs": [
    {
     "name": "stdout",
     "output_type": "stream",
     "text": [
      "Requirement already satisfied: beautifulsoup4 in d:\\xpe-post_grad\\b-desm2\\env1\\dbmysql\\lib\\site-packages (4.12.3)\n",
      "Requirement already satisfied: soupsieve>1.2 in d:\\xpe-post_grad\\b-desm2\\env1\\dbmysql\\lib\\site-packages (from beautifulsoup4) (2.5)\n"
     ]
    }
   ],
   "source": [
    "!pip install beautifulsoup4"
   ]
  },
  {
   "cell_type": "code",
   "execution_count": 1,
   "id": "2049c07c-7e2f-457a-a985-f561fd67449c",
   "metadata": {},
   "outputs": [],
   "source": [
    "import requests\n",
    "from bs4 import BeautifulSoup as beauty\n",
    "import re"
   ]
  },
  {
   "cell_type": "code",
   "execution_count": 6,
   "id": "3b17cf47-b09d-49ee-ad8c-cd8e84b36983",
   "metadata": {},
   "outputs": [],
   "source": [
    "# rt = requests.get(\"https://leandrolessa.com.br/coleta-de-dados-na-web\")\n",
    "# rt.text()"
   ]
  },
  {
   "cell_type": "code",
   "execution_count": 2,
   "id": "bc9aac6d-61d5-4af8-a81b-69519525160f",
   "metadata": {},
   "outputs": [],
   "source": [
    "rt = \"\"\"<tr class=\"row-2 even\">\n",
    "\t<td class=\"column-1\"><span style=\"color:#303030;\">1000</span></td><td class=\"column-2\"><span style=\"color:#303030;\">Sabão em pó</span></td><td class=\"column-3\"><span style=\"color:#303030;\">1</span></td><td class=\"column-4\"><span style=\"color:#303030;\">Produtos de Limpeza</span></td><td class=\"column-5\"><span style=\"color:#303030;\">9.9</span></td>\n",
    "</tr><tr class=\"row-3 odd\">\n",
    "\t<td class=\"column-1\"><span style=\"color:#303030;\">1001</span></td><td class=\"column-2\"><span style=\"color:#303030;\">Amaciante</span></td><td class=\"column-3\"><span style=\"color:#303030;\">1</span></td><td class=\"column-4\"><span style=\"color:#303030;\">Produtos de Limpeza</span></td><td class=\"column-5\"><span style=\"color:#303030;\">22</span></td>\n",
    "</tr><tr class=\"row-4 even\">\n",
    "\t<td class=\"column-1\"><span style=\"color:#303030;\">1002</span></td><td class=\"column-2\"><span style=\"color:#303030;\">Detergente</span></td><td class=\"column-3\"><span style=\"color:#303030;\">1</span></td><td class=\"column-4\"><span style=\"color:#303030;\">Produtos de Limpeza</span></td><td class=\"column-5\"><span style=\"color:#303030;\">1.99</span></td>\n",
    "</tr><tr class=\"row-5 odd\">\n",
    "\t<td class=\"column-1\"><span style=\"color:#303030;\">1003</span></td><td class=\"column-2\"><span style=\"color:#303030;\">Água sanitária</span></td><td class=\"column-3\"><span style=\"color:#303030;\">1</span></td><td class=\"column-4\"><span style=\"color:#303030;\">Produtos de Limpeza</span></td><td class=\"column-5\"><span style=\"color:#303030;\">12</span></td>\n",
    "</tr><tr class=\"row-6 even\">\n",
    "\t<td class=\"column-1\"><span style=\"color:#303030;\">1004</span></td><td class=\"column-2\"><span style=\"color:#303030;\">Esponja de aço</span></td><td class=\"column-3\"><span style=\"color:#303030;\">1</span></td><td class=\"column-4\"><span style=\"color:#303030;\">Produtos de Limpeza</span></td><td class=\"column-5\"><span style=\"color:#303030;\">4</span></td>\n",
    "</tr><tr class=\"row-7 odd\">\n",
    "\t<td class=\"column-1\"><span style=\"color:#303030;\">1005</span></td><td class=\"column-2\"><span style=\"color:#303030;\">Buchinha de pia</span></td><td class=\"column-3\"><span style=\"color:#303030;\">1</span></td><td class=\"column-4\"><span style=\"color:#303030;\">Produtos de Limpeza</span></td><td class=\"column-5\"><span style=\"color:#303030;\">2.5</span></td>\n",
    "</tr><tr class=\"row-8 even\">\n",
    "\t<td class=\"column-1\"><span style=\"color:#303030;\">1006</span></td><td class=\"column-2\"><span style=\"color:#303030;\">Sabão em pedra</span></td><td class=\"column-3\"><span style=\"color:#303030;\">1</span></td><td class=\"column-4\"><span style=\"color:#303030;\">Produtos de Limpeza</span></td><td class=\"column-5\"><span style=\"color:#303030;\">6</span></td>\n",
    "</tr><tr class=\"row-9 odd\">\n",
    "\t<td class=\"column-1\"><span style=\"color:#303030;\">1007</span></td><td class=\"column-2\"><span style=\"color:#303030;\">Sabonete</span></td><td class=\"column-3\"><span style=\"color:#303030;\">1</span></td><td class=\"column-4\"><span style=\"color:#303030;\">Produtos de Limpeza</span></td><td class=\"column-5\"><span style=\"color:#303030;\">1.25</span></td>\n",
    "</tr><tr class=\"row-10 even\">\n",
    "\t<td class=\"column-1\"><span style=\"color:#303030;\">1008</span></td><td class=\"column-2\"><span style=\"color:#303030;\">Shampo</span></td><td class=\"column-3\"><span style=\"color:#303030;\">1</span></td><td class=\"column-4\"><span style=\"color:#303030;\">Produtos de Limpeza</span></td><td class=\"column-5\"><span style=\"color:#303030;\">8.5</span></td>\n",
    "</tr><tr class=\"row-11 odd\">\n",
    "\t<td class=\"column-1\"><span style=\"color:#303030;\">1009</span></td><td class=\"column-2\"><span style=\"color:#303030;\">Condicionador</span></td><td class=\"column-3\"><span style=\"color:#303030;\">1</span></td><td class=\"column-4\"><span style=\"color:#303030;\">Produtos de Limpeza</span></td><td class=\"column-5\"><span style=\"color:#303030;\">12.5</span></td>\n",
    "</tr><tr class=\"row-12 even\">\n",
    "\t<td class=\"column-1\"><span style=\"color:#303030;\">1010</span></td><td class=\"column-2\"><span style=\"color:#303030;\">Desinfetante</span></td><td class=\"column-3\"><span style=\"color:#303030;\">1</span></td><td class=\"column-4\"><span style=\"color:#303030;\">Produtos de Limpeza</span></td><td class=\"column-5\"><span style=\"color:#303030;\">11</span></td>\n",
    "</tr><tr class=\"row-13 odd\">\n",
    "\t<td class=\"column-1\"><span style=\"color:#303030;\">1011</span></td><td class=\"column-2\"><span style=\"color:#303030;\">Lustra móveis</span></td><td class=\"column-3\"><span style=\"color:#303030;\">1</span></td><td class=\"column-4\"><span style=\"color:#303030;\">Produtos de Limpeza</span></td><td class=\"column-5\"><span style=\"color:#303030;\">5.99</span></td>\n",
    "</tr><tr class=\"row-14 even\">\n",
    "\t<td class=\"column-1\"><span style=\"color:#303030;\">1012</span></td><td class=\"column-2\"><span style=\"color:#303030;\">Tira manchas</span></td><td class=\"column-3\"><span style=\"color:#303030;\">1</span></td><td class=\"column-4\"><span style=\"color:#303030;\">Produtos de Limpeza</span></td><td class=\"column-5\"><span style=\"color:#303030;\">7.95</span></td>\n",
    "</tr><tr class=\"row-15 odd\">\n",
    "\t<td class=\"column-1\"><span style=\"color:#303030;\">1013</span></td><td class=\"column-2\"><span style=\"color:#303030;\">Limpa vidros</span></td><td class=\"column-3\"><span style=\"color:#303030;\">1</span></td><td class=\"column-4\"><span style=\"color:#303030;\">Produtos de Limpeza</span></td><td class=\"column-5\"><span style=\"color:#303030;\">13.5</span></td>\n",
    "</tr><tr class=\"row-16 even\">\n",
    "\t<td class=\"column-1\"><span style=\"color:#303030;\">1014</span></td><td class=\"column-2\"><span style=\"color:#303030;\">Alcool</span></td><td class=\"column-3\"><span style=\"color:#303030;\">1</span></td><td class=\"column-4\"><span style=\"color:#303030;\">Produtos de Limpeza</span></td><td class=\"column-5\"><span style=\"color:#303030;\">8.99</span></td>\n",
    "</tr><tr class=\"row-17 odd\">\n",
    "\t<td class=\"column-1\"><span style=\"color:#303030;\">1015</span></td><td class=\"column-2\"><span style=\"color:#303030;\">Saco de lixo 30l</span></td><td class=\"column-3\"><span style=\"color:#303030;\">1</span></td><td class=\"column-4\"><span style=\"color:#303030;\">Produtos de Limpeza</span></td><td class=\"column-5\"><span style=\"color:#303030;\">12</span></td>\n",
    "</tr><tr class=\"row-18 even\">\n",
    "\t<td class=\"column-1\"><span style=\"color:#303030;\">1016</span></td><td class=\"column-2\"><span style=\"color:#303030;\">Saco de lixo 50l</span></td><td class=\"column-3\"><span style=\"color:#303030;\">1</span></td><td class=\"column-4\"><span style=\"color:#303030;\">Produtos de Limpeza</span></td><td class=\"column-5\"><span style=\"color:#303030;\">15</span></td>\n",
    "</tr><tr class=\"row-19 odd\">\n",
    "\t<td class=\"column-1\"><span style=\"color:#303030;\">1017</span></td><td class=\"column-2\"><span style=\"color:#303030;\">Refrigerante 2l</span></td><td class=\"column-3\"><span style=\"color:#303030;\">2</span></td><td class=\"column-4\"><span style=\"color:#303030;\">Bebidas</span></td><td class=\"column-5\"><span style=\"color:#303030;\">7.5</span></td>\n",
    "</tr><tr class=\"row-20 even\">\n",
    "\t<td class=\"column-1\"><span style=\"color:#303030;\">1018</span></td><td class=\"column-2\"><span style=\"color:#303030;\">Suco garrafa 1l</span></td><td class=\"column-3\"><span style=\"color:#303030;\">2</span></td><td class=\"column-4\"><span style=\"color:#303030;\">Bebidas</span></td><td class=\"column-5\"><span style=\"color:#303030;\">4.99</span></td>\n",
    "</tr><tr class=\"row-21 odd\">\n",
    "\t<td class=\"column-1\"><span style=\"color:#303030;\">1019</span></td><td class=\"column-2\"><span style=\"color:#303030;\">Suco caixinha 500ml</span></td><td class=\"column-3\"><span style=\"color:#303030;\">2</span></td><td class=\"column-4\"><span style=\"color:#303030;\">Bebidas</span></td><td class=\"column-5\"><span style=\"color:#303030;\">4.5</span></td>\n",
    "</tr><tr class=\"row-22 even\">\n",
    "\t<td class=\"column-1\"><span style=\"color:#303030;\">1020</span></td><td class=\"column-2\"><span style=\"color:#303030;\">Suco sachê</span></td><td class=\"column-3\"><span style=\"color:#303030;\">2</span></td><td class=\"column-4\"><span style=\"color:#303030;\">Bebidas</span></td><td class=\"column-5\"><span style=\"color:#303030;\">2.5</span></td>\n",
    "</tr><tr class=\"row-23 odd\">\n",
    "\t<td class=\"column-1\"><span style=\"color:#303030;\">1021</span></td><td class=\"column-2\"><span style=\"color:#303030;\">Leite integral litro</span></td><td class=\"column-3\"><span style=\"color:#303030;\">2</span></td><td class=\"column-4\"><span style=\"color:#303030;\">Bebidas</span></td><td class=\"column-5\"><span style=\"color:#303030;\">3.99</span></td>\n",
    "</tr><tr class=\"row-24 even\">\n",
    "\t<td class=\"column-1\"><span style=\"color:#303030;\">1022</span></td><td class=\"column-2\"><span style=\"color:#303030;\">Leite desnatado litro</span></td><td class=\"column-3\"><span style=\"color:#303030;\">2</span></td><td class=\"column-4\"><span style=\"color:#303030;\">Bebidas</span></td><td class=\"column-5\"><span style=\"color:#303030;\">4.3</span></td>\n",
    "</tr><tr class=\"row-25 odd\">\n",
    "\t<td class=\"column-1\"><span style=\"color:#303030;\">1023</span></td><td class=\"column-2\"><span style=\"color:#303030;\">Arroz 5kg</span></td><td class=\"column-3\"><span style=\"color:#303030;\">3</span></td><td class=\"column-4\"><span style=\"color:#303030;\">Alimentação</span></td><td class=\"column-5\"><span style=\"color:#303030;\">22.5</span></td>\n",
    "</tr><tr class=\"row-26 even\">\n",
    "\t<td class=\"column-1\"><span style=\"color:#303030;\">1024</span></td><td class=\"column-2\"><span style=\"color:#303030;\">Feijão 2kg</span></td><td class=\"column-3\"><span style=\"color:#303030;\">3</span></td><td class=\"column-4\"><span style=\"color:#303030;\">Alimentação</span></td><td class=\"column-5\"><span style=\"color:#303030;\">5.99</span></td>\n",
    "</tr><tr class=\"row-27 odd\">\n",
    "\t<td class=\"column-1\"><span style=\"color:#303030;\">1025</span></td><td class=\"column-2\"><span style=\"color:#303030;\">Macarrão</span></td><td class=\"column-3\"><span style=\"color:#303030;\">3</span></td><td class=\"column-4\"><span style=\"color:#303030;\">Alimentação</span></td><td class=\"column-5\"><span style=\"color:#303030;\">4.99</span></td>\n",
    "</tr><tr class=\"row-28 even\">\n",
    "\t<td class=\"column-1\"><span style=\"color:#303030;\">1026</span></td><td class=\"column-2\"><span style=\"color:#303030;\">Extrato de tomate</span></td><td class=\"column-3\"><span style=\"color:#303030;\">3</span></td><td class=\"column-4\"><span style=\"color:#303030;\">Alimentação</span></td><td class=\"column-5\"><span style=\"color:#303030;\">2</span></td>\n",
    "</tr><tr class=\"row-29 odd\">\n",
    "\t<td class=\"column-1\"><span style=\"color:#303030;\">1027</span></td><td class=\"column-2\"><span style=\"color:#303030;\">Molho de tomate</span></td><td class=\"column-3\"><span style=\"color:#303030;\">3</span></td><td class=\"column-4\"><span style=\"color:#303030;\">Alimentação</span></td><td class=\"column-5\"><span style=\"color:#303030;\">3.99</span></td>\n",
    "</tr><tr class=\"row-30 even\">\n",
    "\t<td class=\"column-1\"><span style=\"color:#303030;\">1028</span></td><td class=\"column-2\"><span style=\"color:#303030;\">Sal</span></td><td class=\"column-3\"><span style=\"color:#303030;\">3</span></td><td class=\"column-4\"><span style=\"color:#303030;\">Alimentação</span></td><td class=\"column-5\"><span style=\"color:#303030;\">3.2</span></td>\n",
    "</tr><tr class=\"row-31 odd\">\n",
    "\t<td class=\"column-1\"><span style=\"color:#303030;\">1029</span></td><td class=\"column-2\"><span style=\"color:#303030;\">Açucar</span></td><td class=\"column-3\"><span style=\"color:#303030;\">3</span></td><td class=\"column-4\"><span style=\"color:#303030;\">Alimentação</span></td><td class=\"column-5\"><span style=\"color:#303030;\">10</span></td>\n",
    "</tr><tr class=\"row-32 even\">\n",
    "\t<td class=\"column-1\"><span style=\"color:#303030;\">1030</span></td><td class=\"column-2\"><span style=\"color:#303030;\">Achocolatado</span></td><td class=\"column-3\"><span style=\"color:#303030;\">3</span></td><td class=\"column-4\"><span style=\"color:#303030;\">Alimentação</span></td><td class=\"column-5\"><span style=\"color:#303030;\">8</span></td>\n",
    "</tr><tr class=\"row-33 odd\">\n",
    "\t<td class=\"column-1\"><span style=\"color:#303030;\">1031</span></td><td class=\"column-2\"><span style=\"color:#303030;\">Bolacha</span></td><td class=\"column-3\"><span style=\"color:#303030;\">3</span></td><td class=\"column-4\"><span style=\"color:#303030;\">Alimentação</span></td><td class=\"column-5\"><span style=\"color:#303030;\">1.99</span></td>\n",
    "</tr><tr class=\"row-34 even\">\n",
    "\t<td class=\"column-1\"><span style=\"color:#303030;\">1032</span></td><td class=\"column-2\"><span style=\"color:#303030;\">Café</span></td><td class=\"column-3\"><span style=\"color:#303030;\">3</span></td><td class=\"column-4\"><span style=\"color:#303030;\">Alimentação</span></td><td class=\"column-5\"><span style=\"color:#303030;\">9.99</span></td>\n",
    "</tr><tr class=\"row-35 odd\">\n",
    "\t<td class=\"column-1\"><span style=\"color:#303030;\">1033</span></td><td class=\"column-2\"><span style=\"color:#303030;\">Farofa pronta</span></td><td class=\"column-3\"><span style=\"color:#303030;\">3</span></td><td class=\"column-4\"><span style=\"color:#303030;\">Alimentação</span></td><td class=\"column-5\"><span style=\"color:#303030;\">2.32</span></td>\n",
    "</tr><tr class=\"row-36 even\">\n",
    "\t<td class=\"column-1\"><span style=\"color:#303030;\">1034</span></td><td class=\"column-2\"><span style=\"color:#303030;\">Fubá</span></td><td class=\"column-3\"><span style=\"color:#303030;\">3</span></td><td class=\"column-4\"><span style=\"color:#303030;\">Alimentação</span></td><td class=\"column-5\"><span style=\"color:#303030;\">3.75</span></td>\n",
    "</tr><tr class=\"row-37 odd\">\n",
    "\t<td class=\"column-1\"><span style=\"color:#303030;\">1035</span></td><td class=\"column-2\"><span style=\"color:#303030;\">Farinha de trigo</span></td><td class=\"column-3\"><span style=\"color:#303030;\">3</span></td><td class=\"column-4\"><span style=\"color:#303030;\">Alimentação</span></td><td class=\"column-5\"><span style=\"color:#303030;\">3.99</span></td>\n",
    "</tr><tr class=\"row-38 even\">\n",
    "\t<td class=\"column-1\"><span style=\"color:#303030;\">1036</span></td><td class=\"column-2\"><span style=\"color:#303030;\">Farinha de milho</span></td><td class=\"column-3\"><span style=\"color:#303030;\">3</span></td><td class=\"column-4\"><span style=\"color:#303030;\">Alimentação</span></td><td class=\"column-5\"><span style=\"color:#303030;\">3.5</span></td>\n",
    "</tr><tr class=\"row-39 odd\">\n",
    "\t<td class=\"column-1\"><span style=\"color:#303030;\">1037</span></td><td class=\"column-2\"><span style=\"color:#303030;\">Farinha de mandioca</span></td><td class=\"column-3\"><span style=\"color:#303030;\">3</span></td><td class=\"column-4\"><span style=\"color:#303030;\">Alimentação</span></td><td class=\"column-5\"><span style=\"color:#303030;\">3.45</span></td>\n",
    "</tr><tr class=\"row-40 even\">\n",
    "\t<td class=\"column-1\"><span style=\"color:#303030;\">1038</span></td><td class=\"column-2\"><span style=\"color:#303030;\">Sardinha</span></td><td class=\"column-3\"><span style=\"color:#303030;\">3</span></td><td class=\"column-4\"><span style=\"color:#303030;\">Alimentação</span></td><td class=\"column-5\"><span style=\"color:#303030;\">4</span></td>\n",
    "</tr><tr class=\"row-41 odd\">\n",
    "\t<td class=\"column-1\"><span style=\"color:#303030;\">1039</span></td><td class=\"column-2\"><span style=\"color:#303030;\">Atum</span></td><td class=\"column-3\"><span style=\"color:#303030;\">3</span></td><td class=\"column-4\"><span style=\"color:#303030;\">Alimentação</span></td><td class=\"column-5\"><span style=\"color:#303030;\">4.99</span></td>\n",
    "</tr><tr class=\"row-42 even\">\n",
    "\t<td class=\"column-1\"><span style=\"color:#303030;\">1040</span></td><td class=\"column-2\"><span style=\"color:#303030;\">Maionese</span></td><td class=\"column-3\"><span style=\"color:#303030;\">3</span></td><td class=\"column-4\"><span style=\"color:#303030;\">Alimentação</span></td><td class=\"column-5\"><span style=\"color:#303030;\">5</span></td>\n",
    "</tr><tr class=\"row-43 odd\">\n",
    "\t<td class=\"column-1\"><span style=\"color:#303030;\">1041</span></td><td class=\"column-2\"><span style=\"color:#303030;\">Molho de pimenta</span></td><td class=\"column-3\"><span style=\"color:#303030;\">3</span></td><td class=\"column-4\"><span style=\"color:#303030;\">Alimentação</span></td><td class=\"column-5\"><span style=\"color:#303030;\">4.95</span></td>\n",
    "</tr><tr class=\"row-44 even\">\n",
    "\t<td class=\"column-1\"><span style=\"color:#303030;\">1042</span></td><td class=\"column-2\"><span style=\"color:#303030;\">Ervilha</span></td><td class=\"column-3\"><span style=\"color:#303030;\">3</span></td><td class=\"column-4\"><span style=\"color:#303030;\">Alimentação</span></td><td class=\"column-5\"><span style=\"color:#303030;\">4.45</span></td>\n",
    "</tr><tr class=\"row-45 odd\">\n",
    "\t<td class=\"column-1\"><span style=\"color:#303030;\">1043</span></td><td class=\"column-2\"><span style=\"color:#303030;\">Milho verde</span></td><td class=\"column-3\"><span style=\"color:#303030;\">3</span></td><td class=\"column-4\"><span style=\"color:#303030;\">Alimentação</span></td><td class=\"column-5\"><span style=\"color:#303030;\">3.25</span></td>\n",
    "</tr><tr class=\"row-46 even\">\n",
    "\t<td class=\"column-1\"><span style=\"color:#303030;\">1044</span></td><td class=\"column-2\"><span style=\"color:#303030;\">Seleta</span></td><td class=\"column-3\"><span style=\"color:#303030;\">3</span></td><td class=\"column-4\"><span style=\"color:#303030;\">Alimentação</span></td><td class=\"column-5\"><span style=\"color:#303030;\">3.99</span></td>\n",
    "</tr><tr class=\"row-47 odd\">\n",
    "\t<td class=\"column-1\"><span style=\"color:#303030;\">1045</span></td><td class=\"column-2\"><span style=\"color:#303030;\">Doce de leite</span></td><td class=\"column-3\"><span style=\"color:#303030;\">3</span></td><td class=\"column-4\"><span style=\"color:#303030;\">Alimentação</span></td><td class=\"column-5\"><span style=\"color:#303030;\">5.99</span></td>\n",
    "</tr><tr class=\"row-48 even\">\n",
    "\t<td class=\"column-1\"><span style=\"color:#303030;\">1046</span></td><td class=\"column-2\"><span style=\"color:#303030;\">Goiabada</span></td><td class=\"column-3\"><span style=\"color:#303030;\">3</span></td><td class=\"column-4\"><span style=\"color:#303030;\">Alimentação</span></td><td class=\"column-5\"><span style=\"color:#303030;\">4.99</span></td>\n",
    "</tr><tr class=\"row-49 odd\">\n",
    "\t<td class=\"column-1\"><span style=\"color:#303030;\">1047</span></td><td class=\"column-2\"><span style=\"color:#303030;\">Milho de pipoca</span></td><td class=\"column-3\"><span style=\"color:#303030;\">3</span></td><td class=\"column-4\"><span style=\"color:#303030;\">Alimentação</span></td><td class=\"column-5\"><span style=\"color:#303030;\">3.89</span></td>\n",
    "</tr><tr class=\"row-50 even\">\n",
    "\t<td class=\"column-1\"><span style=\"color:#303030;\">1048</span></td><td class=\"column-2\"><span style=\"color:#303030;\">Óleo de cozinha</span></td><td class=\"column-3\"><span style=\"color:#303030;\">3</span></td><td class=\"column-4\"><span style=\"color:#303030;\">Alimentação</span></td><td class=\"column-5\"><span style=\"color:#303030;\">8.99</span></td>\n",
    "</tr><tr class=\"row-51 odd\">\n",
    "\t<td class=\"column-1\"><span style=\"color:#303030;\">1049</span></td><td class=\"column-2\"><span style=\"color:#303030;\">Leite em pó</span></td><td class=\"column-3\"><span style=\"color:#303030;\">3</span></td><td class=\"column-4\"><span style=\"color:#303030;\">Alimentação</span></td><td class=\"column-5\"><span style=\"color:#303030;\">5.99</span></td>\n",
    "</tr></tbody>\"\"\""
   ]
  },
  {
   "cell_type": "code",
   "execution_count": 3,
   "id": "e3c6e35c-91a2-4f42-b125-dbd53cf95eef",
   "metadata": {},
   "outputs": [],
   "source": [
    "sopa = beauty(rt, 'html.parser')"
   ]
  },
  {
   "cell_type": "code",
   "execution_count": 4,
   "id": "e97ece3d-43c0-4c5b-a9f5-80b7a71fc957",
   "metadata": {},
   "outputs": [],
   "source": [
    "def atrcol(nbr):\n",
    "    return sopa.find_all('td', attrs={'class' : f'column-{nbr}'})"
   ]
  },
  {
   "cell_type": "code",
   "execution_count": 5,
   "id": "ae81bbf8-4f73-433f-9410-00daf4fd8eb0",
   "metadata": {},
   "outputs": [],
   "source": [
    "cod_prod = atrcol('1')"
   ]
  },
  {
   "cell_type": "code",
   "execution_count": 6,
   "id": "86af40d7-bfe8-4005-87b5-656dd639373e",
   "metadata": {},
   "outputs": [],
   "source": [
    "nm_prod = atrcol('2')"
   ]
  },
  {
   "cell_type": "code",
   "execution_count": 7,
   "id": "7c601d3f-ada6-4799-bf56-ed885423d7b1",
   "metadata": {},
   "outputs": [],
   "source": [
    "cod_cl_prod = atrcol('3')"
   ]
  },
  {
   "cell_type": "code",
   "execution_count": 8,
   "id": "c0468064-fbed-47f6-8e78-27ff8138e0a1",
   "metadata": {},
   "outputs": [],
   "source": [
    "cl_prod = atrcol('4')"
   ]
  },
  {
   "cell_type": "code",
   "execution_count": 9,
   "id": "4da24d5a-6ade-44a1-87d5-898005833327",
   "metadata": {},
   "outputs": [],
   "source": [
    "vlr = atrcol('5')"
   ]
  },
  {
   "cell_type": "code",
   "execution_count": 10,
   "id": "7071c21a-4dce-4340-bd7e-c3871c059a1b",
   "metadata": {},
   "outputs": [],
   "source": [
    "def extrai(cjto):\n",
    "    trato1 = re.split(';\\\">', str(cjto))\n",
    "    trato2 = re.split('<', trato1[1])\n",
    "    return trato2[0]"
   ]
  },
  {
   "cell_type": "code",
   "execution_count": 11,
   "id": "2f47dfe9-9e1a-4169-9643-c982a2ecd386",
   "metadata": {},
   "outputs": [],
   "source": [
    "codprod = list()\n",
    "for item in cod_prod:\n",
    "    codprod.append(int(extrai(item)))"
   ]
  },
  {
   "cell_type": "code",
   "execution_count": 12,
   "id": "5fde4370-09c1-4e05-8e51-f59358553c2e",
   "metadata": {},
   "outputs": [],
   "source": [
    "nmprod = list()\n",
    "for item in nm_prod:\n",
    "    nmprod.append(extrai(item))"
   ]
  },
  {
   "cell_type": "code",
   "execution_count": 13,
   "id": "9a8d8d30-4e40-47c1-b188-408d80564dd9",
   "metadata": {},
   "outputs": [],
   "source": [
    "codclprod = list()\n",
    "for item in cod_cl_prod:\n",
    "    codclprod.append(int(extrai(item)))"
   ]
  },
  {
   "cell_type": "code",
   "execution_count": 14,
   "id": "346e5b52-3e4f-4edc-b118-c6535012483d",
   "metadata": {},
   "outputs": [],
   "source": [
    "clprod = list()\n",
    "for item in cl_prod:\n",
    "    clprod.append(extrai(item))"
   ]
  },
  {
   "cell_type": "code",
   "execution_count": 15,
   "id": "45feed41-5ce0-407e-a9c7-b9eccf81757c",
   "metadata": {},
   "outputs": [],
   "source": [
    "valor = list()\n",
    "for item in vlr:\n",
    "    valor.append(\"%.2f\" % float(extrai(item)))"
   ]
  },
  {
   "cell_type": "code",
   "execution_count": 2,
   "id": "ab740a07-a8da-4597-9331-76b0404ca914",
   "metadata": {},
   "outputs": [],
   "source": [
    "import pandas as pd"
   ]
  },
  {
   "cell_type": "code",
   "execution_count": 17,
   "id": "67959451-46b6-4a59-9f8a-940e1963eed8",
   "metadata": {},
   "outputs": [],
   "source": [
    "produtos = pd.DataFrame()"
   ]
  },
  {
   "cell_type": "code",
   "execution_count": 18,
   "id": "f7fb7b34-8dd4-4edc-b4bf-c138e191484f",
   "metadata": {},
   "outputs": [],
   "source": [
    "produtos['cod_produto'] = codprod"
   ]
  },
  {
   "cell_type": "code",
   "execution_count": 19,
   "id": "dcb7e0b1-b14d-4df1-a275-72d3fe4997dc",
   "metadata": {},
   "outputs": [],
   "source": [
    "produtos['nome_produto'] = nmprod"
   ]
  },
  {
   "cell_type": "code",
   "execution_count": 20,
   "id": "8e3c0e2f-316e-4c97-8b25-912b8b3ae900",
   "metadata": {},
   "outputs": [],
   "source": [
    "produtos['cod_classe_produto'] = codclprod"
   ]
  },
  {
   "cell_type": "code",
   "execution_count": 21,
   "id": "82d85f1b-70e7-4389-9614-6078d64e5510",
   "metadata": {},
   "outputs": [],
   "source": [
    "produtos['classe_produto'] = clprod"
   ]
  },
  {
   "cell_type": "code",
   "execution_count": 22,
   "id": "6b778f4f-5687-4c24-9fed-8ddabac29204",
   "metadata": {},
   "outputs": [],
   "source": [
    "produtos['valor'] = valor"
   ]
  },
  {
   "cell_type": "code",
   "execution_count": 103,
   "id": "573707cf-86a8-4216-bdc8-743ac3eac85b",
   "metadata": {},
   "outputs": [
    {
     "data": {
      "text/plain": [
       "cod_produto           0\n",
       "nome_produto          0\n",
       "cod_classe_produto    0\n",
       "classe_produto        0\n",
       "valor                 0\n",
       "dtype: int64"
      ]
     },
     "execution_count": 103,
     "metadata": {},
     "output_type": "execute_result"
    }
   ],
   "source": [
    "produtos.isna().sum()"
   ]
  },
  {
   "cell_type": "code",
   "execution_count": 104,
   "id": "e3714136-22f6-44a6-a899-77dd3fbe5ba9",
   "metadata": {},
   "outputs": [
    {
     "data": {
      "text/plain": [
       "0"
      ]
     },
     "execution_count": 104,
     "metadata": {},
     "output_type": "execute_result"
    }
   ],
   "source": [
    "produtos.duplicated().sum()"
   ]
  },
  {
   "cell_type": "code",
   "execution_count": 23,
   "id": "4366b959-a6c8-4d7e-b0e0-50fb18882484",
   "metadata": {},
   "outputs": [],
   "source": [
    "clientes = pd.read_json('dados_clientes.json')"
   ]
  },
  {
   "cell_type": "code",
   "execution_count": 24,
   "id": "23abf8b8-fcaf-47ac-8fdc-45fcde0571cc",
   "metadata": {},
   "outputs": [],
   "source": [
    "estados = pd.read_csv('estado_regiao.csv', sep=';', encoding='latin-1')"
   ]
  },
  {
   "cell_type": "code",
   "execution_count": 124,
   "id": "9b48f1f6-bff2-4f4f-8c42-708b6d260940",
   "metadata": {},
   "outputs": [
    {
     "name": "stdout",
     "output_type": "stream",
     "text": [
      "Requirement already satisfied: xlrd in d:\\xpe-post_grad\\b-desm2\\env1\\dbmysql\\lib\\site-packages (2.0.1)\n"
     ]
    }
   ],
   "source": [
    "!pip install xlrd"
   ]
  },
  {
   "cell_type": "code",
   "execution_count": 3,
   "id": "2e6425d9-6715-4f5f-abdc-52c0375c231d",
   "metadata": {},
   "outputs": [],
   "source": [
    "compras = pd.read_excel('compras.xls')"
   ]
  },
  {
   "cell_type": "code",
   "execution_count": 130,
   "id": "c4853702-b784-4c2b-91e7-8c940c3383f2",
   "metadata": {},
   "outputs": [
    {
     "data": {
      "text/plain": [
       "cliente    0\n",
       "dtype: int64"
      ]
     },
     "execution_count": 130,
     "metadata": {},
     "output_type": "execute_result"
    }
   ],
   "source": [
    "clientes.isna().sum()"
   ]
  },
  {
   "cell_type": "code",
   "execution_count": 131,
   "id": "0b9ab538-ede3-4528-b0f1-b97538612d90",
   "metadata": {},
   "outputs": [
    {
     "data": {
      "text/plain": [
       "0"
      ]
     },
     "execution_count": 131,
     "metadata": {},
     "output_type": "execute_result"
    }
   ],
   "source": [
    "clientes.duplicated().sum()"
   ]
  },
  {
   "cell_type": "code",
   "execution_count": 132,
   "id": "974a13cc-7b01-403b-acaa-8d0552cdd327",
   "metadata": {},
   "outputs": [
    {
     "data": {
      "text/plain": [
       "id_estado    0\n",
       "sigla        0\n",
       "estado       0\n",
       "regiao       0\n",
       "pais         0\n",
       "dtype: int64"
      ]
     },
     "execution_count": 132,
     "metadata": {},
     "output_type": "execute_result"
    }
   ],
   "source": [
    "estados.isna().sum()"
   ]
  },
  {
   "cell_type": "code",
   "execution_count": 133,
   "id": "74e61b13-08e6-447f-8142-3d741aab7a82",
   "metadata": {},
   "outputs": [
    {
     "data": {
      "text/plain": [
       "0"
      ]
     },
     "execution_count": 133,
     "metadata": {},
     "output_type": "execute_result"
    }
   ],
   "source": [
    "estados.duplicated().sum()"
   ]
  },
  {
   "cell_type": "code",
   "execution_count": 155,
   "id": "cf185f1c-f6e1-4366-83ef-625d5deea78c",
   "metadata": {},
   "outputs": [
    {
     "data": {
      "text/plain": [
       "cod_cliente            0\n",
       "cod_produto           10\n",
       "qtd_produto            0\n",
       "valor_unitario         5\n",
       "valor_total_compra    21\n",
       "dtype: int64"
      ]
     },
     "execution_count": 155,
     "metadata": {},
     "output_type": "execute_result"
    }
   ],
   "source": [
    "compras.isna().sum()"
   ]
  },
  {
   "cell_type": "code",
   "execution_count": 156,
   "id": "71deead5-9ee5-4d41-aec8-b5b8adf81589",
   "metadata": {},
   "outputs": [
    {
     "data": {
      "text/plain": [
       "0"
      ]
     },
     "execution_count": 156,
     "metadata": {},
     "output_type": "execute_result"
    }
   ],
   "source": [
    "compras.duplicated().sum()"
   ]
  },
  {
   "cell_type": "code",
   "execution_count": 10,
   "id": "76ff955e-5d8f-4b71-830d-ee259d4a1b06",
   "metadata": {},
   "outputs": [],
   "source": [
    "compras = compras[compras['cod_produto'].notna()]"
   ]
  },
  {
   "cell_type": "code",
   "execution_count": 11,
   "id": "e2e35813-ba59-465e-b33f-ce6cf75b62c0",
   "metadata": {},
   "outputs": [
    {
     "data": {
      "text/plain": [
       "cod_cliente            0\n",
       "cod_produto            0\n",
       "qtd_produto            0\n",
       "valor_unitario         5\n",
       "valor_total_compra    21\n",
       "dtype: int64"
      ]
     },
     "execution_count": 11,
     "metadata": {},
     "output_type": "execute_result"
    }
   ],
   "source": [
    "compras.isna().sum()"
   ]
  },
  {
   "cell_type": "code",
   "execution_count": 164,
   "id": "ec095252-872f-41ec-af78-c1f3100b879d",
   "metadata": {},
   "outputs": [
    {
     "data": {
      "text/html": [
       "<div>\n",
       "<style scoped>\n",
       "    .dataframe tbody tr th:only-of-type {\n",
       "        vertical-align: middle;\n",
       "    }\n",
       "\n",
       "    .dataframe tbody tr th {\n",
       "        vertical-align: top;\n",
       "    }\n",
       "\n",
       "    .dataframe thead th {\n",
       "        text-align: right;\n",
       "    }\n",
       "</style>\n",
       "<table border=\"1\" class=\"dataframe\">\n",
       "  <thead>\n",
       "    <tr style=\"text-align: right;\">\n",
       "      <th></th>\n",
       "      <th>cod_cliente</th>\n",
       "      <th>cod_produto</th>\n",
       "      <th>qtd_produto</th>\n",
       "      <th>valor_unitario</th>\n",
       "      <th>valor_total_compra</th>\n",
       "    </tr>\n",
       "  </thead>\n",
       "  <tbody>\n",
       "    <tr>\n",
       "      <th>388</th>\n",
       "      <td>389</td>\n",
       "      <td>1079.0</td>\n",
       "      <td>4</td>\n",
       "      <td>NaN</td>\n",
       "      <td>23.96</td>\n",
       "    </tr>\n",
       "    <tr>\n",
       "      <th>448</th>\n",
       "      <td>449</td>\n",
       "      <td>1033.0</td>\n",
       "      <td>2</td>\n",
       "      <td>NaN</td>\n",
       "      <td>4.64</td>\n",
       "    </tr>\n",
       "    <tr>\n",
       "      <th>492</th>\n",
       "      <td>493</td>\n",
       "      <td>1031.0</td>\n",
       "      <td>4</td>\n",
       "      <td>NaN</td>\n",
       "      <td>7.96</td>\n",
       "    </tr>\n",
       "    <tr>\n",
       "      <th>573</th>\n",
       "      <td>574</td>\n",
       "      <td>1077.0</td>\n",
       "      <td>1</td>\n",
       "      <td>NaN</td>\n",
       "      <td>34.50</td>\n",
       "    </tr>\n",
       "    <tr>\n",
       "      <th>691</th>\n",
       "      <td>692</td>\n",
       "      <td>1040.0</td>\n",
       "      <td>2</td>\n",
       "      <td>NaN</td>\n",
       "      <td>10.00</td>\n",
       "    </tr>\n",
       "  </tbody>\n",
       "</table>\n",
       "</div>"
      ],
      "text/plain": [
       "     cod_cliente  cod_produto  qtd_produto  valor_unitario  valor_total_compra\n",
       "388          389       1079.0            4             NaN               23.96\n",
       "448          449       1033.0            2             NaN                4.64\n",
       "492          493       1031.0            4             NaN                7.96\n",
       "573          574       1077.0            1             NaN               34.50\n",
       "691          692       1040.0            2             NaN               10.00"
      ]
     },
     "execution_count": 164,
     "metadata": {},
     "output_type": "execute_result"
    }
   ],
   "source": [
    "compras[compras['valor_unitario'].isna()]"
   ]
  },
  {
   "cell_type": "code",
   "execution_count": 12,
   "id": "f412c6cb-9fcd-4d0f-bc29-31f64b5ca185",
   "metadata": {},
   "outputs": [],
   "source": [
    "compras.valor_unitario[compras['valor_unitario'].isna()] = compras.valor_total_compra[compras['valor_unitario'].isna()] / compras.qtd_produto[compras['valor_unitario'].isna()]"
   ]
  },
  {
   "cell_type": "code",
   "execution_count": 13,
   "id": "4b5308c1-ff9d-43d0-a94c-0b5b14ccf00c",
   "metadata": {},
   "outputs": [
    {
     "data": {
      "text/plain": [
       "cod_cliente            0\n",
       "cod_produto            0\n",
       "qtd_produto            0\n",
       "valor_unitario         0\n",
       "valor_total_compra    21\n",
       "dtype: int64"
      ]
     },
     "execution_count": 13,
     "metadata": {},
     "output_type": "execute_result"
    }
   ],
   "source": [
    "compras.isna().sum()"
   ]
  },
  {
   "cell_type": "code",
   "execution_count": 14,
   "id": "ed21af4e-1a62-4120-9fc0-3aeffe4a1e18",
   "metadata": {},
   "outputs": [],
   "source": [
    "compras.valor_total_compra[compras['valor_total_compra'].isna()] = compras.qtd_produto[compras['valor_total_compra'].isna()] * compras.valor_unitario[compras['valor_total_compra'].isna()]"
   ]
  },
  {
   "cell_type": "code",
   "execution_count": 15,
   "id": "b95e0d11-068c-4757-b583-b603e684ef58",
   "metadata": {},
   "outputs": [
    {
     "data": {
      "text/plain": [
       "cod_cliente           0\n",
       "cod_produto           0\n",
       "qtd_produto           0\n",
       "valor_unitario        0\n",
       "valor_total_compra    0\n",
       "dtype: int64"
      ]
     },
     "execution_count": 15,
     "metadata": {},
     "output_type": "execute_result"
    }
   ],
   "source": [
    "compras.isna().sum()"
   ]
  },
  {
   "cell_type": "code",
   "execution_count": 169,
   "id": "e521c628-a8eb-43d0-8807-557001683853",
   "metadata": {},
   "outputs": [
    {
     "data": {
      "text/plain": [
       "0"
      ]
     },
     "execution_count": 169,
     "metadata": {},
     "output_type": "execute_result"
    }
   ],
   "source": [
    "compras.duplicated().sum()"
   ]
  },
  {
   "cell_type": "code",
   "execution_count": 29,
   "id": "a884cbe2-fdda-4222-bb92-5f6f602cb312",
   "metadata": {},
   "outputs": [],
   "source": [
    "customers = []\n",
    "for cliente in clientes['cliente']:\n",
    "    customers.append(cliente)\n",
    "consumers = pd.DataFrame.from_dict(customers)"
   ]
  },
  {
   "cell_type": "code",
   "execution_count": 171,
   "id": "6c81e48f-3670-4826-bb14-fe490a2a7ec6",
   "metadata": {},
   "outputs": [
    {
     "name": "stdout",
     "output_type": "stream",
     "text": [
      "Collecting mysqlclient\n",
      "  Downloading mysqlclient-2.2.4-cp312-cp312-win_amd64.whl.metadata (4.6 kB)\n",
      "Downloading mysqlclient-2.2.4-cp312-cp312-win_amd64.whl (203 kB)\n",
      "   ---------------------------------------- 0.0/203.3 kB ? eta -:--:--\n",
      "   ---------------------------------------- 0.0/203.3 kB ? eta -:--:--\n",
      "   -- ------------------------------------- 10.2/203.3 kB ? eta -:--:--\n",
      "   ----- --------------------------------- 30.7/203.3 kB 262.6 kB/s eta 0:00:01\n",
      "   ------- ------------------------------- 41.0/203.3 kB 245.8 kB/s eta 0:00:01\n",
      "   --------------- ----------------------- 81.9/203.3 kB 419.2 kB/s eta 0:00:01\n",
      "   ----------------- --------------------- 92.2/203.3 kB 438.1 kB/s eta 0:00:01\n",
      "   ---------------------- --------------- 122.9/203.3 kB 425.1 kB/s eta 0:00:01\n",
      "   ------------------------------ ------- 163.8/203.3 kB 518.9 kB/s eta 0:00:01\n",
      "   -------------------------------- ----- 174.1/203.3 kB 477.7 kB/s eta 0:00:01\n",
      "   ------------------------------------ - 194.6/203.3 kB 491.5 kB/s eta 0:00:01\n",
      "   ------------------------------------ - 194.6/203.3 kB 491.5 kB/s eta 0:00:01\n",
      "   ------------------------------------ - 194.6/203.3 kB 491.5 kB/s eta 0:00:01\n",
      "   ------------------------------------ - 194.6/203.3 kB 491.5 kB/s eta 0:00:01\n",
      "   ------------------------------------ - 194.6/203.3 kB 491.5 kB/s eta 0:00:01\n",
      "   ------------------------------------ - 194.6/203.3 kB 491.5 kB/s eta 0:00:01\n",
      "   ------------------------------------ - 194.6/203.3 kB 491.5 kB/s eta 0:00:01\n",
      "   -------------------------------------- 203.3/203.3 kB 281.0 kB/s eta 0:00:00\n",
      "Installing collected packages: mysqlclient\n",
      "Successfully installed mysqlclient-2.2.4\n"
     ]
    }
   ],
   "source": [
    "!pip install mysqlclient"
   ]
  },
  {
   "cell_type": "code",
   "execution_count": 5,
   "id": "df7804d8-9c3e-4600-939d-322e99ea9565",
   "metadata": {},
   "outputs": [],
   "source": [
    "import MySQLdb as msql\n",
    "import sqlalchemy as salc"
   ]
  },
  {
   "cell_type": "code",
   "execution_count": 6,
   "id": "7e3fa115-94e2-444f-aad9-43d9b6f6b211",
   "metadata": {},
   "outputs": [],
   "source": [
    "usuario = 'pericles@localhost'\n",
    "senha = 'Access2Da1aBas3'\n",
    "servidor = 'localhost'\n",
    "base_de_dados = 'dbmysql'\n",
    "\n",
    "conexao = f'mysql://{usuario}:{senha}@{servidor}/{base_de_dados}'"
   ]
  },
  {
   "cell_type": "code",
   "execution_count": 7,
   "id": "39a72e1f-2450-484d-89eb-83efec0c7a85",
   "metadata": {},
   "outputs": [],
   "source": [
    "engine = salc.create_engine(conexao)\n",
    "conn = engine.connect()"
   ]
  },
  {
   "cell_type": "code",
   "execution_count": 61,
   "id": "b0a55481-2a06-47da-b1e2-c3dd071d5490",
   "metadata": {},
   "outputs": [],
   "source": [
    "for cls in produtos.classe_produto.unique():\n",
    "    classe = cls\n",
    "    try:\n",
    "        query = f\"\"\"INSERT INTO tb_classe_produto (classe) VALUES ('{classe}')\"\"\"\n",
    "        conn.execute(query)\n",
    "    except Exception as e:\n",
    "        print(f'Erro {e}')"
   ]
  },
  {
   "cell_type": "code",
   "execution_count": 64,
   "id": "8bf7d39b-dae6-4a80-a3ca-8623df6fc1a8",
   "metadata": {},
   "outputs": [],
   "source": [
    "for prod in produtos.itertuples():\n",
    "    cod_classe = prod.cod_classe_produto\n",
    "    cod_produto = prod.cod_produto\n",
    "    produto = prod.nome_produto\n",
    "    try:\n",
    "        query = f\"\"\"INSERT INTO tb_produto (cod_produto, produto, cod_classe) VALUES ('{cod_produto}', '{produto}', '{cod_classe}')\"\"\"\n",
    "        conn.execute(query)\n",
    "    except Exception as e:\n",
    "        print(f'Erro {e}')"
   ]
  },
  {
   "cell_type": "code",
   "execution_count": 65,
   "id": "3998224e-231c-48da-8649-38f8675d2790",
   "metadata": {},
   "outputs": [],
   "source": [
    "for est in estados.itertuples():\n",
    "    cod_estado = est.id_estado\n",
    "    estado = est.estado\n",
    "    sigla = est.sigla\n",
    "    regiao = est.regiao\n",
    "    pais = est.pais\n",
    "    try:\n",
    "        query = f\"\"\"INSERT INTO tb_estado (cod_estado, estado, sigla, regiao, pais) VALUES ('{cod_estado}', '{estado}', '{sigla}', '{regiao}', '{pais}')\"\"\"\n",
    "        conn.execute(query)\n",
    "    except Exception as e:\n",
    "        print(f'Erro {e}')"
   ]
  },
  {
   "cell_type": "code",
   "execution_count": null,
   "id": "a8ad606b-1a00-4637-a4e1-65f787b1a96e",
   "metadata": {},
   "outputs": [],
   "source": [
    "for cli in consumers.itertuples():\n",
    "    cod_cliente = cli.cod_cliente\n",
    "    sexo = cli.sexo\n",
    "    idade = cli.idade\n",
    "    qtd_filhos = cli.qtd_filhos\n",
    "    hipertenso = cli.hipertenso\n",
    "    diabetico = cli.diabetes\n",
    "    cod_estado = cli.cod_estado\n",
    "    estado_civil = cli.estado_civil\n",
    "    try:\n",
    "        query = f\"\"\"INSERT INTO tb_cliente (cod_cliente, sexo, idade, qtd_filhos, hipertenso, diabetico, cod_estado, estado_civil) \n",
    "        VALUES ('{cod_cliente}', '{sexo}', '{idade}', '{qtd_filhos}', '{hipertenso}', '{diabetico}', '{cod_estado}', '{estado_civil}')\"\"\"\n",
    "        conn.execute(query)\n",
    "    except Exception as e:\n",
    "        print(f'Erro {e}')"
   ]
  },
  {
   "cell_type": "code",
   "execution_count": 4,
   "id": "3e2c9d49-a0fc-4baf-ae43-f33a1860312a",
   "metadata": {},
   "outputs": [
    {
     "data": {
      "text/html": [
       "<div>\n",
       "<style scoped>\n",
       "    .dataframe tbody tr th:only-of-type {\n",
       "        vertical-align: middle;\n",
       "    }\n",
       "\n",
       "    .dataframe tbody tr th {\n",
       "        vertical-align: top;\n",
       "    }\n",
       "\n",
       "    .dataframe thead th {\n",
       "        text-align: right;\n",
       "    }\n",
       "</style>\n",
       "<table border=\"1\" class=\"dataframe\">\n",
       "  <thead>\n",
       "    <tr style=\"text-align: right;\">\n",
       "      <th></th>\n",
       "      <th>cod_cliente</th>\n",
       "      <th>cod_produto</th>\n",
       "      <th>qtd_produto</th>\n",
       "      <th>valor_unitario</th>\n",
       "      <th>valor_total_compra</th>\n",
       "    </tr>\n",
       "  </thead>\n",
       "  <tbody>\n",
       "    <tr>\n",
       "      <th>0</th>\n",
       "      <td>1</td>\n",
       "      <td>1011.0</td>\n",
       "      <td>3</td>\n",
       "      <td>5.99</td>\n",
       "      <td>17.97</td>\n",
       "    </tr>\n",
       "    <tr>\n",
       "      <th>1</th>\n",
       "      <td>2</td>\n",
       "      <td>1032.0</td>\n",
       "      <td>4</td>\n",
       "      <td>9.99</td>\n",
       "      <td>39.96</td>\n",
       "    </tr>\n",
       "    <tr>\n",
       "      <th>2</th>\n",
       "      <td>3</td>\n",
       "      <td>1049.0</td>\n",
       "      <td>2</td>\n",
       "      <td>5.99</td>\n",
       "      <td>NaN</td>\n",
       "    </tr>\n",
       "    <tr>\n",
       "      <th>3</th>\n",
       "      <td>4</td>\n",
       "      <td>1021.0</td>\n",
       "      <td>4</td>\n",
       "      <td>3.99</td>\n",
       "      <td>15.96</td>\n",
       "    </tr>\n",
       "    <tr>\n",
       "      <th>4</th>\n",
       "      <td>5</td>\n",
       "      <td>1001.0</td>\n",
       "      <td>4</td>\n",
       "      <td>22.00</td>\n",
       "      <td>88.00</td>\n",
       "    </tr>\n",
       "  </tbody>\n",
       "</table>\n",
       "</div>"
      ],
      "text/plain": [
       "   cod_cliente  cod_produto  qtd_produto  valor_unitario  valor_total_compra\n",
       "0            1       1011.0            3            5.99               17.97\n",
       "1            2       1032.0            4            9.99               39.96\n",
       "2            3       1049.0            2            5.99                 NaN\n",
       "3            4       1021.0            4            3.99               15.96\n",
       "4            5       1001.0            4           22.00               88.00"
      ]
     },
     "execution_count": 4,
     "metadata": {},
     "output_type": "execute_result"
    }
   ],
   "source": [
    "compras.head()"
   ]
  },
  {
   "cell_type": "code",
   "execution_count": 16,
   "id": "cd79b64f-9473-4309-a6af-b6703830f1b7",
   "metadata": {},
   "outputs": [
    {
     "data": {
      "text/plain": [
       "2990"
      ]
     },
     "execution_count": 16,
     "metadata": {},
     "output_type": "execute_result"
    }
   ],
   "source": [
    "compras.to_sql('stg_compras', con=conn, schema='dbmysql')"
   ]
  },
  {
   "cell_type": "code",
   "execution_count": null,
   "id": "0d1e4bca-2303-462a-94d9-2ed9b65bba8a",
   "metadata": {},
   "outputs": [],
   "source": []
  }
 ],
 "metadata": {
  "kernelspec": {
   "display_name": "Python 3 (ipykernel)",
   "language": "python",
   "name": "python3"
  },
  "language_info": {
   "codemirror_mode": {
    "name": "ipython",
    "version": 3
   },
   "file_extension": ".py",
   "mimetype": "text/x-python",
   "name": "python",
   "nbconvert_exporter": "python",
   "pygments_lexer": "ipython3",
   "version": "3.12.2"
  }
 },
 "nbformat": 4,
 "nbformat_minor": 5
}
