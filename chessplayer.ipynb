{
 "cells": [
  {
   "cell_type": "code",
   "execution_count": 1,
   "id": "a4f9ea59-5ec2-480f-b808-ee8df993220d",
   "metadata": {},
   "outputs": [],
   "source": [
    "import pandas as pd"
   ]
  },
  {
   "cell_type": "code",
   "execution_count": 2,
   "id": "60564808-d677-40ff-afa6-0c37173e9b89",
   "metadata": {},
   "outputs": [],
   "source": [
    "dadosxadrez = pd.read_json('jogadores_chess.json', orient='index')"
   ]
  },
  {
   "cell_type": "code",
   "execution_count": 29,
   "id": "7e45099c-0b4f-4a84-9869-319b5ad7d86b",
   "metadata": {},
   "outputs": [
    {
     "data": {
      "text/plain": [
       "pandas.core.series.Series"
      ]
     },
     "execution_count": 29,
     "metadata": {},
     "output_type": "execute_result"
    }
   ],
   "source": [
    "type(dadosxadrez.iloc[0])"
   ]
  },
  {
   "cell_type": "code",
   "execution_count": 30,
   "id": "807ca210-c845-4423-881e-40b7ff66c6ac",
   "metadata": {},
   "outputs": [],
   "source": [
    "chessdata = []\n",
    "for item in dadosxadrez.iloc[0]:\n",
    "    chessdata.append(item)"
   ]
  },
  {
   "cell_type": "code",
   "execution_count": 34,
   "id": "2f3847c5-d224-4c6d-8a3f-9986d9085856",
   "metadata": {},
   "outputs": [],
   "source": [
    "chessplayers = pd.DataFrame.from_dict(chessdata)"
   ]
  },
  {
   "cell_type": "code",
   "execution_count": 35,
   "id": "a3814b36-17e1-4662-bf98-2bbf3a70d99c",
   "metadata": {},
   "outputs": [
    {
     "data": {
      "text/html": [
       "<div>\n",
       "<style scoped>\n",
       "    .dataframe tbody tr th:only-of-type {\n",
       "        vertical-align: middle;\n",
       "    }\n",
       "\n",
       "    .dataframe tbody tr th {\n",
       "        vertical-align: top;\n",
       "    }\n",
       "\n",
       "    .dataframe thead th {\n",
       "        text-align: right;\n",
       "    }\n",
       "</style>\n",
       "<table border=\"1\" class=\"dataframe\">\n",
       "  <thead>\n",
       "    <tr style=\"text-align: right;\">\n",
       "      <th></th>\n",
       "      <th>avatar</th>\n",
       "      <th>player_id</th>\n",
       "      <th>@id</th>\n",
       "      <th>url</th>\n",
       "      <th>name</th>\n",
       "      <th>username</th>\n",
       "      <th>title</th>\n",
       "      <th>followers</th>\n",
       "      <th>country</th>\n",
       "      <th>last_online</th>\n",
       "      <th>joined</th>\n",
       "      <th>status</th>\n",
       "      <th>is_streamer</th>\n",
       "      <th>location</th>\n",
       "      <th>twitch_url</th>\n",
       "    </tr>\n",
       "  </thead>\n",
       "  <tbody>\n",
       "    <tr>\n",
       "      <th>0</th>\n",
       "      <td>https://images.chesscomfiles.com/uploads/v1/us...</td>\n",
       "      <td>18800602</td>\n",
       "      <td>https://api.chess.com/pub/player/123lt</td>\n",
       "      <td>https://www.chess.com/member/123lt</td>\n",
       "      <td>Tingjie Lei</td>\n",
       "      <td>123lt</td>\n",
       "      <td>GM</td>\n",
       "      <td>36</td>\n",
       "      <td>https://api.chess.com/pub/country/CN</td>\n",
       "      <td>1615967972</td>\n",
       "      <td>1410059361</td>\n",
       "      <td>premium</td>\n",
       "      <td>False</td>\n",
       "      <td>NaN</td>\n",
       "      <td>NaN</td>\n",
       "    </tr>\n",
       "    <tr>\n",
       "      <th>1</th>\n",
       "      <td>https://images.chesscomfiles.com/uploads/v1/us...</td>\n",
       "      <td>29499974</td>\n",
       "      <td>https://api.chess.com/pub/player/124chess</td>\n",
       "      <td>https://www.chess.com/member/124chess</td>\n",
       "      <td>Дмитрий Хегай</td>\n",
       "      <td>124chess</td>\n",
       "      <td>GM</td>\n",
       "      <td>87</td>\n",
       "      <td>https://api.chess.com/pub/country/RU</td>\n",
       "      <td>1616173422</td>\n",
       "      <td>1471316272</td>\n",
       "      <td>premium</td>\n",
       "      <td>False</td>\n",
       "      <td>Красноярск</td>\n",
       "      <td>NaN</td>\n",
       "    </tr>\n",
       "    <tr>\n",
       "      <th>2</th>\n",
       "      <td>https://images.chesscomfiles.com/uploads/v1/us...</td>\n",
       "      <td>30610578</td>\n",
       "      <td>https://api.chess.com/pub/player/1977ivan</td>\n",
       "      <td>https://www.chess.com/member/1977Ivan</td>\n",
       "      <td>Ivan Ivanisevic</td>\n",
       "      <td>1977ivan</td>\n",
       "      <td>GM</td>\n",
       "      <td>120</td>\n",
       "      <td>https://api.chess.com/pub/country/RS</td>\n",
       "      <td>1616110240</td>\n",
       "      <td>1477565847</td>\n",
       "      <td>premium</td>\n",
       "      <td>False</td>\n",
       "      <td>Belgrade</td>\n",
       "      <td>NaN</td>\n",
       "    </tr>\n",
       "    <tr>\n",
       "      <th>3</th>\n",
       "      <td>https://images.chesscomfiles.com/uploads/v1/us...</td>\n",
       "      <td>13013662</td>\n",
       "      <td>https://api.chess.com/pub/player/1stsecond</td>\n",
       "      <td>https://www.chess.com/member/1stSecond</td>\n",
       "      <td>Nikita Meshkovs</td>\n",
       "      <td>1stsecond</td>\n",
       "      <td>GM</td>\n",
       "      <td>716</td>\n",
       "      <td>https://api.chess.com/pub/country/LV</td>\n",
       "      <td>1616192647</td>\n",
       "      <td>1375617889</td>\n",
       "      <td>premium</td>\n",
       "      <td>False</td>\n",
       "      <td>Riga</td>\n",
       "      <td>NaN</td>\n",
       "    </tr>\n",
       "    <tr>\n",
       "      <th>4</th>\n",
       "      <td>https://images.chesscomfiles.com/uploads/v1/us...</td>\n",
       "      <td>39230304</td>\n",
       "      <td>https://api.chess.com/pub/player/2nd_life</td>\n",
       "      <td>https://www.chess.com/member/2nd_life</td>\n",
       "      <td>Florian Jenni</td>\n",
       "      <td>2nd_life</td>\n",
       "      <td>GM</td>\n",
       "      <td>25</td>\n",
       "      <td>https://api.chess.com/pub/country/CH</td>\n",
       "      <td>1615926963</td>\n",
       "      <td>1507311109</td>\n",
       "      <td>premium</td>\n",
       "      <td>False</td>\n",
       "      <td>Zurich</td>\n",
       "      <td>NaN</td>\n",
       "    </tr>\n",
       "  </tbody>\n",
       "</table>\n",
       "</div>"
      ],
      "text/plain": [
       "                                              avatar  player_id  \\\n",
       "0  https://images.chesscomfiles.com/uploads/v1/us...   18800602   \n",
       "1  https://images.chesscomfiles.com/uploads/v1/us...   29499974   \n",
       "2  https://images.chesscomfiles.com/uploads/v1/us...   30610578   \n",
       "3  https://images.chesscomfiles.com/uploads/v1/us...   13013662   \n",
       "4  https://images.chesscomfiles.com/uploads/v1/us...   39230304   \n",
       "\n",
       "                                          @id  \\\n",
       "0      https://api.chess.com/pub/player/123lt   \n",
       "1   https://api.chess.com/pub/player/124chess   \n",
       "2   https://api.chess.com/pub/player/1977ivan   \n",
       "3  https://api.chess.com/pub/player/1stsecond   \n",
       "4   https://api.chess.com/pub/player/2nd_life   \n",
       "\n",
       "                                      url             name   username title  \\\n",
       "0      https://www.chess.com/member/123lt      Tingjie Lei      123lt    GM   \n",
       "1   https://www.chess.com/member/124chess    Дмитрий Хегай   124chess    GM   \n",
       "2   https://www.chess.com/member/1977Ivan  Ivan Ivanisevic   1977ivan    GM   \n",
       "3  https://www.chess.com/member/1stSecond  Nikita Meshkovs  1stsecond    GM   \n",
       "4   https://www.chess.com/member/2nd_life    Florian Jenni   2nd_life    GM   \n",
       "\n",
       "   followers                               country  last_online      joined  \\\n",
       "0         36  https://api.chess.com/pub/country/CN   1615967972  1410059361   \n",
       "1         87  https://api.chess.com/pub/country/RU   1616173422  1471316272   \n",
       "2        120  https://api.chess.com/pub/country/RS   1616110240  1477565847   \n",
       "3        716  https://api.chess.com/pub/country/LV   1616192647  1375617889   \n",
       "4         25  https://api.chess.com/pub/country/CH   1615926963  1507311109   \n",
       "\n",
       "    status  is_streamer    location twitch_url  \n",
       "0  premium        False         NaN        NaN  \n",
       "1  premium        False  Красноярск        NaN  \n",
       "2  premium        False    Belgrade        NaN  \n",
       "3  premium        False        Riga        NaN  \n",
       "4  premium        False      Zurich        NaN  "
      ]
     },
     "execution_count": 35,
     "metadata": {},
     "output_type": "execute_result"
    }
   ],
   "source": [
    "chessplayers.head()"
   ]
  },
  {
   "cell_type": "code",
   "execution_count": null,
   "id": "6e3570ad-1059-46f6-85e5-a7642d707da0",
   "metadata": {},
   "outputs": [],
   "source": []
  }
 ],
 "metadata": {
  "kernelspec": {
   "display_name": "Python 3 (ipykernel)",
   "language": "python",
   "name": "python3"
  },
  "language_info": {
   "codemirror_mode": {
    "name": "ipython",
    "version": 3
   },
   "file_extension": ".py",
   "mimetype": "text/x-python",
   "name": "python",
   "nbconvert_exporter": "python",
   "pygments_lexer": "ipython3",
   "version": "3.12.2"
  }
 },
 "nbformat": 4,
 "nbformat_minor": 5
}
